{
 "cells": [
  {
   "cell_type": "code",
   "execution_count": null,
   "metadata": {},
   "outputs": [],
   "source": [
    "from bokeh.io import output_notebook\n",
    "from RootInteractive.Tools.aliTreePlayer import *\n",
    "from RootInteractive.InteractiveDrawing.bokeh.bokehDrawSA import *\n",
    "from RootInteractive.Tools.aliTreePlayer import *\n",
    "from bokeh.io import curdoc\n",
    "import numpy as np\n",
    "import os\n",
    "import sys\n",
    "from ROOT import TFile, gSystem\n",
    "from RootInteractive.InteractiveDrawing.bokeh.bokehDrawSA import *\n",
    "from RootInteractive.MLpipeline.NDFunctionInterface import  DataContainer, Fitter, RandomForest\n",
    "import plotly.express as px\n",
    "import time\n",
    "import pickle\n",
    "from IPython.display import Image, clear_output\n",
    "from RootInteractive.InteractiveDrawing.bokeh.CDSCompress import *\n",
    "\n",
    "#\n",
    "#from fastSimulation import *"
   ]
  },
  {
   "cell_type": "code",
   "execution_count": null,
   "metadata": {},
   "outputs": [],
   "source": [
    "from ROOT import gROOT, AliDrawStyle, gStyle\n",
    "AliDrawStyle.SetDefaults()\n",
    "AliDrawStyle.ApplyStyle(\"figTemplate\")\n",
    "gStyle.SetOptTitle(1)"
   ]
  },
  {
   "cell_type": "code",
   "execution_count": null,
   "metadata": {},
   "outputs": [],
   "source": [
    "gROOT.LoadMacro(\" $fastMCKalman/fastMCKalman/gasProp/testInterpolationGas.C+\")"
   ]
  },
  {
   "cell_type": "code",
   "execution_count": null,
   "metadata": {},
   "outputs": [],
   "source": [
    "ROOT.initTree()\n",
    "ROOT.makeGasFunction(2000)"
   ]
  },
  {
   "cell_type": "code",
   "execution_count": null,
   "metadata": {},
   "outputs": [],
   "source": [
    "ROOT.tree"
   ]
  },
  {
   "cell_type": "code",
   "execution_count": null,
   "metadata": {},
   "outputs": [],
   "source": [
    "ROOT.getDt(0,10,1)"
   ]
  },
  {
   "cell_type": "code",
   "execution_count": null,
   "metadata": {},
   "outputs": [],
   "source": [
    "f2 = ROOT.TF2(\"f2\",\"getDt([0],x,y)\",1,100,0.005,1)\n",
    "f2.SetParameter(0,2)\n",
    "f2.Draw(\"surf2\")\n",
    "ROOT.c1.Draw(\"\")"
   ]
  },
  {
   "cell_type": "code",
   "execution_count": null,
   "metadata": {},
   "outputs": [],
   "source": [
    "ROOT.tree.Draw(\"normdT/normdTFit_0:E/p:fquencher\",(ROOT.mapId[0]+ROOT.TString(\"&&E/p<1&&E/p>0.005\")).Data(), \"colz\")\n",
    "ROOT.c1.Draw()"
   ]
  },
  {
   "cell_type": "code",
   "execution_count": null,
   "metadata": {},
   "outputs": [],
   "source": [
    "ROOT.mapId[0]+ROOT.TString(\"&&E/p<1&&E/p>0.005\")"
   ]
  },
  {
   "cell_type": "code",
   "execution_count": null,
   "metadata": {},
   "outputs": [],
   "source": []
  }
 ],
 "metadata": {
  "kernelspec": {
   "display_name": "Python 3",
   "language": "python",
   "name": "python3"
  },
  "language_info": {
   "codemirror_mode": {
    "name": "ipython",
    "version": 3
   },
   "file_extension": ".py",
   "mimetype": "text/x-python",
   "name": "python",
   "nbconvert_exporter": "python",
   "pygments_lexer": "ipython3",
   "version": "3.6.9"
  }
 },
 "nbformat": 4,
 "nbformat_minor": 2
}
