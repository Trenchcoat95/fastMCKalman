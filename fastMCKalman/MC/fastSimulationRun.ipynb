{
 "cells": [
  {
   "cell_type": "code",
   "execution_count": null,
   "metadata": {},
   "outputs": [],
   "source": [
    "from bokeh.io import output_notebook\n",
    "from RootInteractive.Tools.aliTreePlayer import *\n",
    "from RootInteractive.InteractiveDrawing.bokeh.bokehDrawSA import *\n",
    "from RootInteractive.Tools.aliTreePlayer import *\n",
    "from bokeh.io import curdoc\n",
    "import numpy as np\n",
    "import os\n",
    "import sys\n",
    "from ROOT import TFile, gSystem\n",
    "from RootInteractive.InteractiveDrawing.bokeh.bokehDrawSA import *\n",
    "from RootInteractive.MLpipeline.NDFunctionInterface import  DataContainer, Fitter, RandomForest\n",
    "import plotly.express as px\n",
    "import time\n",
    "output_notebook()\n",
    "import pickle\n",
    "from IPython.display import Image, clear_output\n",
    "from fastSimulation import *"
   ]
  },
  {
   "cell_type": "code",
   "execution_count": null,
   "metadata": {},
   "outputs": [],
   "source": [
    "vertexParam={\n",
    "    \"nLayers\":8,        # number  of layers\n",
    "    \"rMin\": 4,          # minimal radius\n",
    "    \"rMax\": 45,         # max radius\n",
    "    \"spacing\":1,        # spacing power (1- homogenous)\n",
    "    \"X0\":  0.006,       # X0 per layer\n",
    "    \"clResol\": np.array([0.005 , 0.001]),   # nominal cluster resolution\n",
    "    #\n",
    "    \"dnLayers\":2,       # simulation range for number of layers        \n",
    "    \"drMin\":1,          # simulation range for rMin\n",
    "    \"drMax\":5,          # simulation range for rMax\n",
    "    \"dSpacing\":0.2,     # simulation range for spacing \n",
    "    \"dX0\": 0.5          # relative spread of the X0 to simulate\n",
    "    \"dclResol\":  np.array([0.005 , 0.001]),   # nominal cluster                  \n",
    "}\n",
    "print(vertexParam)"
   ]
  },
  {
   "cell_type": "code",
   "execution_count": null,
   "metadata": {},
   "outputs": [],
   "source": [
    "fgeom=ROOT.fastGeometry(201)"
   ]
  },
  {
   "cell_type": "code",
   "execution_count": null,
   "metadata": {},
   "outputs": [],
   "source": [
    "np.array([0.05,0.001])"
   ]
  },
  {
   "cell_type": "code",
   "execution_count": null,
   "metadata": {},
   "outputs": [],
   "source": [
    "x=[0.05,0.001]"
   ]
  },
  {
   "cell_type": "code",
   "execution_count": null,
   "metadata": {},
   "outputs": [],
   "source": []
  },
  {
   "cell_type": "code",
   "execution_count": null,
   "metadata": {},
   "outputs": [],
   "source": []
  }
 ],
 "metadata": {
  "kernelspec": {
   "display_name": "Python 3",
   "language": "python",
   "name": "python3"
  },
  "language_info": {
   "codemirror_mode": {
    "name": "ipython",
    "version": 3
   },
   "file_extension": ".py",
   "mimetype": "text/x-python",
   "name": "python",
   "nbconvert_exporter": "python",
   "pygments_lexer": "ipython3",
   "version": "3.6.9"
  }
 },
 "nbformat": 4,
 "nbformat_minor": 2
}
