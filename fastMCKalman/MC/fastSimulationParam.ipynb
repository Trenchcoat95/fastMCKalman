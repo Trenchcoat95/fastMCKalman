{
 "cells": [
  {
   "cell_type": "markdown",
   "metadata": {},
   "source": [
    "# Fast simulation perfromance parameterization \n",
    "Expert  configurable event display for fast simulzation studies  \n",
    "\n",
    "\n",
    "## Contents \n",
    "[Import modules](#import) <br>\n",
    "[Load trees, set aliases](#load) <br>\n",
    "[XYZ display pt](#XYZdisplayPt) <br>\n",
    "[XYZ display pt](#XYZdisplaytrack) <br>"
   ]
  },
  {
   "cell_type": "code",
   "execution_count": null,
   "metadata": {},
   "outputs": [],
   "source": [
    "from bokeh.io import output_notebook\n",
    "from RootInteractive.Tools.aliTreePlayer import *\n",
    "from RootInteractive.InteractiveDrawing.bokeh.bokehDrawSA import *\n",
    "from RootInteractive.Tools.aliTreePlayer import *\n",
    "from bokeh.io import curdoc\n",
    "import numpy as np\n",
    "import os\n",
    "import sys\n",
    "from ROOT import TFile, gSystem\n",
    "from RootInteractive.InteractiveDrawing.bokeh.bokehDrawSA import *\n",
    "from RootInteractive.MLpipeline.NDFunctionInterface import  DataContainer, Fitter, RandomForest\n",
    "import plotly.express as px\n",
    "import time\n",
    "import pickle\n",
    "from IPython.display import Image, clear_output\n",
    "from RootInteractive.InteractiveDrawing.bokeh.CDSCompress import *\n",
    "#\n",
    "from fastSimulation import *"
   ]
  },
  {
   "cell_type": "markdown",
   "metadata": {},
   "source": [
    "## 1.) Load trees and define derived variables:\n",
    "<a id='load'></a>"
   ]
  },
  {
   "cell_type": "markdown",
   "metadata": {},
   "source": [
    "* Covaraince matrix of Alice kalman track - stored as an array \n",
    "* ```(y,z,sing*phi),tgl(theta),qPt) -> (0,2,5,9,14)```\n",
    " * 0   \n",
    " * 1 2\n",
    " * 3 4 5 \n",
    " * 6 7 8 9\n",
    " * 10 11 12 13 14 "
   ]
  },
  {
   "cell_type": "code",
   "execution_count": null,
   "metadata": {},
   "outputs": [],
   "source": [
    "inputData = \"/home2/miranov/github/fastMCKalman/data/alice3/fastParticle.list\";\n",
    "inputData = \"${fastMCKalman}/data/alice3/fastParticle.list\";\n",
    "inputData = \"/home2/miranov/github/fastMCKalman/data/testTPC/fastParticle.list\";\n",
    "#inputData = \"/home2/miranov/github/fastMCKalman/data/run2/fastParticle.list\";"
   ]
  },
  {
   "cell_type": "code",
   "execution_count": null,
   "metadata": {},
   "outputs": [],
   "source": [
    "ROOT.initTreeFast(inputData)\n",
    "tree=ROOT.treeFast"
   ]
  },
  {
   "cell_type": "code",
   "execution_count": null,
   "metadata": {},
   "outputs": [],
   "source": [
    "tree.SetMarkerStyle(25)\n",
    "tree.SetMarkerSize(0.5)\n",
    "ROOT.setAliases(tree)\n",
    "tree.SetAlias(\"qPt\",\"part.fParamMC[0].fP[4]\")\n",
    "tree.SetAlias(\"ptMC\",\"part.fParamMC[0].fData.Pt()\")\n",
    "tree.SetAlias(\"ptIn\",\"part.fParamIn[1].fData.Pt()\")\n",
    "tree.SetAlias(\"ptMCP\",\"part.fParamMC[].fData.Pt()\")\n",
    "tree.SetAlias(\"tglMC\",\"part.fParamMC[0].fP[3]\")\n",
    "tree.SetAlias(\"tglIn\",\"part.fParamIn[1].fP[3]\")\n",
    "#\n",
    "tree.SetAlias(\"sigmaY0\",\"sqrt(part.fParamIn[1].fC[0])\")\n",
    "tree.SetAlias(\"sigmaZ0\",\"sqrt(part.fParamIn[1].fC[2])\")\n",
    "tree.SetAlias(\"sigmaqPt0\",\"sqrt(part.fParamIn[1].fC[14])\")\n",
    "#\n",
    "tree.SetAlias(\"sigmaY0Rot\",\"sqrt(part.fParamInRot[1].fC[0])\")\n",
    "tree.SetAlias(\"sigmaZ0Rot\",\"sqrt(part.fParamInRot[1].fC[2])\")\n",
    "tree.SetAlias(\"sigmaqPt0Rot\",\"sqrt(part.fParamInRot[1].fC[14])\")\n",
    "#\n",
    "tree.SetAlias(\"gzMC\",\"(part.fParamMC[].fP[1])\")\n",
    "tree.SetAlias(\"gzIn\",\"(part.fParamIn[].fP[1])\")\n",
    "tree.SetAlias(\"rMC\",\"sqrt(gxMC**2+gyMC**2)\")\n",
    "tree.SetAlias(\"snpMC\",\"(part.fParamMC[].fP[2])\")\n",
    "tree.SetAlias(\"pIndex\",\"Iteration$\")\n",
    "tree.SetAlias(\"trackID\",\"i\")\n",
    "tree.SetAlias(\"snpMax\",\"abs(part.fParamMC[fMaxLayer].fP[2])\")\n",
    "#\n",
    "tree.SetAlias(\"meanptMC\",\"part.getMean(0+0,0)\");\n",
    "tree.SetAlias(\"meanptMCInv\",\"part.getMean(1+0,0)\");\n",
    "tree.SetAlias(\"meandEdxExp\",\"part.getMean(2+0,0)\");\n",
    "tree.SetAlias(\"meandEdxExpInv\",\"part.getMean(3+0,0)\");\n",
    "tree.SetAlias(\"X0Norm\",\"geom.fLayerX0.fData[0]/0.0001\");\n",
    "tree.SetAlias(\"sigmaRPhi\",\"geom.fLayerResolRPhi.fData[0]\");\n",
    "tree.SetAlias(\"sigmaPtRel0\",\"sigmaqPt0*ptMC\");\n",
    "tree.SetAlias(\"sigmaPtRel0Mean\",\"sigmaqPt0/meanptMCInv\");\n",
    "#\n",
    "tree.SetAlias(\"fitCut\",\"ptMC>0.01&&Larm>30&&sigmaPtRel0<0.5\")\n"
   ]
  },
  {
   "cell_type": "code",
   "execution_count": null,
   "metadata": {},
   "outputs": [],
   "source": [
    "%%time\n",
    "tree.SetAlias(\"fitCut\",\"ptMC>0.01&&Larm>30&&sigmaPtRel0<0.5\")\n",
    "defaultCutTrack=\"fitCut\"\n",
    "kineParam=[\"sigmaPtRel0\",\"qPt\",\"ptMC\",\n",
    "                           \"sigmaY0\",\"sigmaZ0\",\"sigmaqPt0\",\n",
    "                           \"sigmaY0Rot\",\"sigmaZ0Rot\",\"sigmaqPt0Rot\",\n",
    "                           \"pidCode\",\"isSecondary\",\"fMaxLayer\",\"dEdxExp\",\n",
    "                          \"snpMax\",\"fMassMC\"]\n",
    "resolParam=[\"meanptMCInv\",\"meandEdxExpInv\",\"X0Norm\",\"tglMC\",\"Larm\",\"sigmaRPhi\"]\n",
    "dfRes=tree2Panda(tree,kineParam+resolParam,\n",
    "                 defaultCutTrack,columnMask=[[\"_fElements\",\"\"]],nEntries=50000)\n"
   ]
  },
  {
   "cell_type": "code",
   "execution_count": null,
   "metadata": {},
   "outputs": [],
   "source": [
    "#dfRes[variableX].head(5)"
   ]
  },
  {
   "cell_type": "code",
   "execution_count": null,
   "metadata": {},
   "outputs": [],
   "source": [
    "%%time\n",
    "dfResML=dfRes\n",
    "npoints=dfRes.shape[0]\n",
    "varFit='sigmaPtRel0'\n",
    "variableX=resolParam\n",
    "dataContainer = DataContainer(dfResML, variableX, varFit, [npoints//2,npoints//2])\n",
    "fitter = Fitter(dataContainer)\n",
    "fitter.Register_Method('RF','RandomForest', 'Regressor', n_estimators=200, max_depth=12)\n",
    "fitter.Register_Method('RF_10','RandomForest', 'Regressor', n_estimators=200, max_depth=10)\n",
    "\n",
    "fitter.Fit()\n",
    "fitter.printImportance()\n",
    "#\n",
    "for method in ['RF' , 'RF_10']:    \n",
    "    dfResML= fitter.AppendOtherPandas(method,dfResML)\n",
    "fitter.AppendStatPandas(\"RF\",dfResML)\n",
    "dfResML=fitter.AppendStatPandas(\"RF_10\",dfResML)\n"
   ]
  },
  {
   "cell_type": "code",
   "execution_count": null,
   "metadata": {},
   "outputs": [],
   "source": [
    "dfResMLDraw[\"FitRatio\"]=dfResMLDraw.eval(\"log(sigmaPtRel0/RF)\")\n",
    "\n"
   ]
  },
  {
   "cell_type": "code",
   "execution_count": null,
   "metadata": {},
   "outputs": [],
   "source": [
    "dfResML.columns"
   ]
  },
  {
   "cell_type": "markdown",
   "metadata": {},
   "source": [
    "## Resolution plot - outliers in covariance matrix could be too small\n",
    "* resolution at layer 0 as obtained by covariance matrix \n",
    "* problem similar in 2 rotation schema\n",
    "  * rotate to local after each propagation\n",
    "  * only one rotation"
   ]
  },
  {
   "cell_type": "code",
   "execution_count": null,
   "metadata": {},
   "outputs": [],
   "source": [
    "output_file(\"fastSimulDisplayResolution.html\")\n",
    "dfResMLDraw=dfResML\n",
    "dfResMLDraw[\"FitRatio\"]=dfResMLDraw.eval(\"log(sigmaPtRel0/RF)\")\n",
    "dfResMLDraw[\"ptResolHPT\"]=dfResMLDraw.eval(\"(abs(1/qPt)*0.01*(sigmaRPhi+0.0001)*sqrt(720./(Larm+4))/(0.3*0.5*(Larm/100.)**(2.)))\")\n",
    "dfResMLDraw[\"pMC\"]=dfResMLDraw.eval(\"sqrt(1+tglMC**2)*ptMC\")\n",
    "dfResMLDraw[\"Beta\"]=dfResMLDraw.eval(\"sqrt(pMC**2/(pMC**2+fMassMC**2))\")\n",
    "dfResMLDraw[\"ptResolLPT\"]=dfResMLDraw.eval(\"(0.2*0.5/Beta)*sqrt(Larm/100.)\")\n",
    "dfResMLDraw[\"FitRatioHPT\"]=dfResMLDraw.eval(\"log(sigmaPtRel0/ptResolHPT)\")\n",
    "dfResMLDraw[\"FitRatioLPT\"]=dfResMLDraw.eval(\"log(sigmaPtRel0/ptResolLPT)\")\n",
    "\n",
    "\n",
    "histoArray = [\n",
    "    {\"name\": \"histoqPt\", \"variables\": [\"qPt\"], \"nbins\": 50},\n",
    "    {\"name\": \"histoFitRatio\", \"variables\": [\"FitRatio\"], \"nbins\": 50},\n",
    "    {\"name\": \"histoFitRatioHPT\", \"variables\": [\"FitRatioHPT\"], \"nbins\": 50},\n",
    "    {\"name\": \"histoFitRatioLPT\", \"variables\": [\"FitRatioLPT\"], \"nbins\": 50}\n",
    "\n",
    "\n",
    "]\n",
    "\n",
    "figureArray = [\n",
    "    [['qPt'], ['sigmaPtRel0'], {\"colorZvar\":\"pidCode\"}],\n",
    "    [['qPt'], ['RF'], {\"colorZvar\":\"pidCode\"}],\n",
    "    [['qPt'], ['ptResolHPT'], {\"colorZvar\":\"pidCode\"}],\n",
    "    [['qPt'], ['ptResolLPT'], {\"colorZvar\":\"pidCode\"}],\n",
    "    #\n",
    "    [['qPt'], ['FitRatio'], {\"colorZvar\":\"pidCode\"}],\n",
    "    [['qPt'], ['FitRatioHPT'], {\"colorZvar\":\"pidCode\"}],\n",
    "    [['qPt'], ['FitRatioLPT'], {\"colorZvar\":\"pidCode\"}],\n",
    "    #\n",
    "    [[\"qPt\"],[\"histoqPt\"],{}],\n",
    "    [[\"FitRatio\"],[\"histoFitRatio\"],{}],\n",
    "    [[\"FitRatioHPT\"],[\"histoFitRatioHPT\"],{}],\n",
    "    [[\"FitRatioLPT\"],[\"histoFitRatioLPT\"],{}],\n",
    "    [\"tableHisto\", {\"rowwise\": False}],\n",
    "    ['table'],\n",
    "    {\"size\": 5}\n",
    "]\n",
    "\n",
    "widgetParams=[\n",
    "    #infironment\n",
    "    ['range', ['dEdxExp']],\n",
    "    ['range', ['meandEdxExpInv']],\n",
    "    ['range', ['X0Norm']],\n",
    "    ['range', ['pidCode']],\n",
    "    ['range', ['sigmaRPhi']],\n",
    "    #\n",
    "    ['range', ['ptMC']],\n",
    "    ['range', ['qPt']],\n",
    "    ['range', ['tglMC']],\n",
    "    ['range', ['Larm']],\n",
    "    #\n",
    "    [\"range\", ['FitRatio']],\n",
    "    [\"range\", ['FitRatioHPT']],\n",
    "    [\"range\", ['ptResolHPT']]\n",
    "   \n",
    "    #dummy\n",
    "    \n",
    "]\n",
    "tooltips = [(\"qPt\",\"@qPt\"),(\"sigmaRPhi\",\"@sigmaRPhi\")]\n",
    "widgetLayoutDesc=[ [0,1,2,3,4],[5,6,7,8],[9,10], {'sizing_mode':'scale_width'} ]\n",
    "figureLayoutDesc=[\n",
    "    [0,1,2,3, {'plot_height':170}],\n",
    "    [4,5,6, {'plot_height':120}],\n",
    "    [7,8,9,10, {'plot_height':120}],\n",
    "    [11, {'plot_height':50}],\n",
    "    {'plot_height':400,'sizing_mode':'scale_width'}\n",
    "]\n",
    "\n",
    "output_file(\"fastSimulDisplayResolution.html\")\n",
    "figC=bokehDrawSA.fromArray(dfResMLDraw, \"fMaxLayer>4\", figureArray, widgetParams,layout=figureLayoutDesc,tooltips=tooltips,sizing_mode='scale_width',widgetLayout=widgetLayoutDesc,nPointRender=20000,rescaleColorMapper=True,arrayCompression=arrayCompressionRelative8,histogramArray=histoArray,)"
   ]
  },
  {
   "cell_type": "code",
   "execution_count": null,
   "metadata": {},
   "outputs": [],
   "source": [
    "dfResMLDraw[\"pMC\"]=dfResMLDraw.eval(\"sqrt(1+tglMC**2)*ptMC\")\n",
    "dfResMLDraw[\"Beta\"]=dfResMLDraw.eval(\"sqrt(pMC**2/(pMC**2+fMassMC**2))\")\n",
    "dfResMLDraw[\"ptResolLPT\"]=dfResMLDraw.eval(\"(0.2*0.5/Beta)*sqrt(Larm/100.)\")"
   ]
  },
  {
   "cell_type": "code",
   "execution_count": null,
   "metadata": {},
   "outputs": [],
   "source": [
    "dfResMLDraw[\"ptResolHPT\"]=dfResMLDraw.eval(\"(abs(1/qPt)*(sigmaRPhi+0.01)*sqrt(720./(Larm+4.))/(0.3*0.5*(Larm/100.)**2.))\")"
   ]
  },
  {
   "cell_type": "code",
   "execution_count": null,
   "metadata": {},
   "outputs": [],
   "source": [
    "#Fast prototyping part"
   ]
  },
  {
   "cell_type": "code",
   "execution_count": null,
   "metadata": {},
   "outputs": [],
   "source": [
    "\n",
    "dfResMLDraw[\"ptResolHPT\"]=dfResMLDraw.eval(\"(abs(1/qPt)*sigmaRPhi*sqrt(720.)/(0.5*Larm**(2.5)))\")"
   ]
  },
  {
   "cell_type": "code",
   "execution_count": null,
   "metadata": {},
   "outputs": [],
   "source": [
    "dfResMLDraw[\"ptResolHPT\"]"
   ]
  },
  {
   "cell_type": "code",
   "execution_count": null,
   "metadata": {},
   "outputs": [],
   "source": [
    "dfResMLDraw"
   ]
  },
  {
   "cell_type": "code",
   "execution_count": null,
   "metadata": {},
   "outputs": [],
   "source": []
  }
 ],
 "metadata": {
  "kernelspec": {
   "display_name": "Python 3",
   "language": "python",
   "name": "python3"
  },
  "language_info": {
   "codemirror_mode": {
    "name": "ipython",
    "version": 3
   },
   "file_extension": ".py",
   "mimetype": "text/x-python",
   "name": "python",
   "nbconvert_exporter": "python",
   "pygments_lexer": "ipython3",
   "version": "3.6.9"
  }
 },
 "nbformat": 4,
 "nbformat_minor": 2
}
