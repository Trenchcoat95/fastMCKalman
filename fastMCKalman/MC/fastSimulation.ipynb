{
 "cells": [
  {
   "cell_type": "markdown",
   "metadata": {},
   "source": [
    "# Fast simulation event display and perfromance parameterization\n",
    "Expert  configurable event display for fast simulzation studies  \n",
    "\n",
    "\n",
    "## Contents \n",
    "[Import modules](#import) <br>\n",
    "[Load trees, set aliases](#load) <br>\n",
    "[XYZ display pt](#XYZdisplayPt) <br>\n",
    "[XYZ display pt](#XYZdisplaytrack) <br>"
   ]
  },
  {
   "cell_type": "code",
   "execution_count": null,
   "metadata": {},
   "outputs": [],
   "source": [
    "from bokeh.io import output_notebook\n",
    "from RootInteractive.Tools.aliTreePlayer import *\n",
    "from RootInteractive.InteractiveDrawing.bokeh.bokehDrawSA import *\n",
    "from RootInteractive.Tools.aliTreePlayer import *\n",
    "from bokeh.io import curdoc\n",
    "import numpy as np\n",
    "import os\n",
    "import sys\n",
    "from ROOT import TFile, gSystem\n",
    "from RootInteractive.InteractiveDrawing.bokeh.bokehDrawSA import *\n",
    "from RootInteractive.MLpipeline.NDFunctionInterface import  DataContainer, Fitter, RandomForest\n",
    "import plotly.express as px\n",
    "import time\n",
    "import pickle\n",
    "from IPython.display import Image, clear_output\n",
    "from RootInteractive.InteractiveDrawing.bokeh.CDSCompress import *\n",
    "#\n",
    "from fastSimulation import *"
   ]
  },
  {
   "cell_type": "markdown",
   "metadata": {},
   "source": [
    "## 1.) Load trees and define derived variables:\n",
    "<a id='load'></a>"
   ]
  },
  {
   "cell_type": "markdown",
   "metadata": {},
   "source": [
    "* Covaraince matrix of Alice kalman track - stored as an array \n",
    "* ```(y,z,sing*phi),tgl(theta),qPt) -> (0,2,5,9,14)```\n",
    " * 0   \n",
    " * 1 2\n",
    " * 3 4 5 \n",
    " * 6 7 8 9\n",
    " * 10 11 12 13 14 "
   ]
  },
  {
   "cell_type": "code",
   "execution_count": null,
   "metadata": {},
   "outputs": [],
   "source": [
    "inputData = \"/home2/miranov/github/fastMCKalman/data/alice3/fastParticle.list\";\n",
    "inputData = \"${fastMCKalman}/data/alice3/fastParticle.list\";\n",
    "inputData = \"/home2/miranov/github/fastMCKalman/data/testTPC/fastParticle.list\";\n",
    "#inputData = \"/home2/miranov/github/fastMCKalman/data/run2/fastParticle.list\";"
   ]
  },
  {
   "cell_type": "code",
   "execution_count": null,
   "metadata": {},
   "outputs": [],
   "source": [
    "ROOT.initTreeFast(inputData)\n",
    "tree=ROOT.treeFast"
   ]
  },
  {
   "cell_type": "code",
   "execution_count": null,
   "metadata": {},
   "outputs": [],
   "source": [
    "tree.SetMarkerStyle(25)\n",
    "tree.SetMarkerSize(0.5)\n",
    "ROOT.setAliases(tree)\n",
    "tree.SetAlias(\"qPt\",\"part.fParamMC[0].fP[4]\")\n",
    "tree.SetAlias(\"ptMC\",\"part.fParamMC[0].fData.Pt()\")\n",
    "tree.SetAlias(\"ptIn\",\"part.fParamIn[1].fData.Pt()\")\n",
    "tree.SetAlias(\"ptMCP\",\"part.fParamMC[].fData.Pt()\")\n",
    "tree.SetAlias(\"tglMC\",\"part.fParamMC[0].fP[3]\")\n",
    "tree.SetAlias(\"tglIn\",\"part.fParamIn[1].fP[3]\")\n",
    "#\n",
    "tree.SetAlias(\"sigmaY0\",\"sqrt(part.fParamIn[1].fC[0])\")\n",
    "tree.SetAlias(\"sigmaZ0\",\"sqrt(part.fParamIn[1].fC[2])\")\n",
    "tree.SetAlias(\"sigmaqPt0\",\"sqrt(part.fParamIn[1].fC[14])\")\n",
    "#\n",
    "tree.SetAlias(\"sigmaY0Rot\",\"sqrt(part.fParamInRot[1].fC[0])\")\n",
    "tree.SetAlias(\"sigmaZ0Rot\",\"sqrt(part.fParamInRot[1].fC[2])\")\n",
    "tree.SetAlias(\"sigmaqPt0Rot\",\"sqrt(part.fParamInRot[1].fC[14])\")\n",
    "#\n",
    "tree.SetAlias(\"gzMC\",\"(part.fParamMC[].fP[1])\")\n",
    "tree.SetAlias(\"gzIn\",\"(part.fParamIn[].fP[1])\")\n",
    "tree.SetAlias(\"rMC\",\"sqrt(gxMC**2+gyMC**2)\")\n",
    "tree.SetAlias(\"snpMC\",\"(part.fParamMC[].fP[2])\")\n",
    "tree.SetAlias(\"pIndex\",\"Iteration$\")\n",
    "tree.SetAlias(\"trackID\",\"i\")\n",
    "tree.SetAlias(\"snpMax\",\"abs(part.fParamMC[fMaxLayer].fP[2])\")"
   ]
  },
  {
   "cell_type": "markdown",
   "metadata": {},
   "source": [
    "## Root tree - fast query check"
   ]
  },
  {
   "cell_type": "code",
   "execution_count": null,
   "metadata": {},
   "outputs": [],
   "source": [
    "c1=ROOT.TCanvas(\"c1\",\"c1\",700,400)\n",
    "entries = tree.Draw(\"sigmaY0:1/ptMC:pidCode\",\"ptMC>0.1&&abs(tglMC)<2&&!isSecondary&&sigmaY0<1&&fMaxLayer>3\",\"colz\")\n",
    "#c1.SetLogy(1)\n",
    "c1.Draw(\"colz\")"
   ]
  },
  {
   "cell_type": "code",
   "execution_count": null,
   "metadata": {},
   "outputs": [],
   "source": [
    "c1=ROOT.TCanvas(\"c1\",\"c1\",700,400)\n",
    "entries = tree.Draw(\"10*sigmaY0Rot:1/ptMC:abs(tglMC)\",\"ptMC>0.3&&abs(tglMC)<2&&!isSecondary&&sigmaY0Rot<1&&isSecondary==0&&sigmaY0Rot<0.1&&fMaxLayer>3\",\"colz\")\n",
    "#c1.SetLogy(1)\n",
    "c1.Draw(\"colz\")"
   ]
  },
  {
   "cell_type": "code",
   "execution_count": null,
   "metadata": {},
   "outputs": [],
   "source": [
    "tree.GetAlias(\"gzMC\")\n",
    "anyTree=treeToAnyTree(tree)\n",
    "output_notebook()"
   ]
  },
  {
   "cell_type": "markdown",
   "metadata": {},
   "source": [
    "## Resolution plot - outliers in covariance matrix could be too small\n",
    "* resolution at layer 0 as obtained by covariance matrix \n",
    "* problem similar in 2 rotation schema\n",
    "  * rotate to local after each propagation\n",
    "  * only one rotation"
   ]
  },
  {
   "cell_type": "code",
   "execution_count": null,
   "metadata": {},
   "outputs": [],
   "source": [
    "defaultCutTrack=\"ptMC>0.01&&sigmaY0<0.2&&sigmaZ0<0.2&&sigmaY0Rot<0.2&&sigmaZ0Rot<0.2&&fMaxLayer>3\"\n",
    "dfResDraw=tree2Panda(tree,[\"qPt\",\"tglMC\",\n",
    "                           \"sigmaY0\",\"sigmaZ0\",\"sigmaqPt0\",\n",
    "                           \"sigmaY0Rot\",\"sigmaZ0Rot\",\"sigmaqPt0Rot\",\n",
    "                           \"pidCode\",\"isSecondary\",\"fMaxLayer\",\"dEdxExp\",\n",
    "                          \"snpMax\"],\n",
    "                 defaultCutTrack,columnMask=[[\"_fElements\",\"\"]],nEntries=5000)\n",
    "\n",
    "output_file(\"fastSimulDisplayReolution.html\")\n",
    "dfDraw=dfResDraw.head(400000)\n",
    "figureArray = [\n",
    "    [['qPt'], ['sigmaY0'], {\"colorZvar\":\"pidCode\"}],\n",
    "    [['qPt'], ['sigmaZ0'], {\"colorZvar\":\"pidCode\"}],\n",
    "    [['qPt'], ['sigmaqPt0'], {\"colorZvar\":\"pidCode\"}],\n",
    "    #\n",
    "    [['qPt'], ['sigmaY0Rot'], {\"colorZvar\":\"pidCode\"}],\n",
    "    [['qPt'], ['sigmaZ0Rot'], {\"colorZvar\":\"pidCode\"}],\n",
    "    [['qPt'], ['sigmaqPt0Rot'], {\"colorZvar\":\"pidCode\"}],\n",
    "    \n",
    "    #\n",
    "    [['qPt'], ['sigmaY0/sqrt(1+qPt**2)'], {\"colorZvar\":\"pidCode\"}],\n",
    "    [['qPt'], ['sigmaZ0/sqrt(1+qPt**2)'], {\"colorZvar\":\"pidCode\"}],\n",
    "    [['qPt'], ['sigmaqPt0/sqrt(1+qPt**2)'], {\"colorZvar\":\"pidCode\"}],\n",
    "    #\n",
    "    [['qPt'], ['sigmaY0/sqrt(1+(dEdxExp*qPt)**2)'], {\"colorZvar\":\"pidCode\"}],\n",
    "    [['qPt'], ['sigmaZ0/sqrt(1+(dEdxExp*qPt)**2)'], {\"colorZvar\":\"pidCode\"}],\n",
    "    [['qPt'], ['sigmaqPt0/sqrt(1+(dEdxExp*qPt)**2)'], {\"colorZvar\":\"pidCode\"}],\n",
    "    #\n",
    "    ['table'],\n",
    "    {\"size\": 5}\n",
    "]\n",
    "\n",
    "widgetParams=[\n",
    "    ['range', ['qPt']],\n",
    "    ['range', ['tglMC']],\n",
    "    #\n",
    "    ['range', ['sigmaY0']],\n",
    "    ['range', ['sigmaZ0']],\n",
    "    ['range', ['sigmaqPt0']],\n",
    "    #\n",
    "    ['multiSelect', ['pidCode']],\n",
    "    ['multiSelect', [\"isSecondary\"]],\n",
    "    #\n",
    "    ['range', ['fMaxLayer']],\n",
    "    ['range', ['snpMax']],\n",
    "     ['range', ['dEdxExp']],\n",
    "    \n",
    "]\n",
    "tooltips = [(\"qPt\",\"@qPt\")]\n",
    "widgetLayoutDesc=[ [0,1],[2,3,4],[5,6],[7,8,9], {'sizing_mode':'scale_width'} ]\n",
    "figureLayoutDesc=[\n",
    "    [0,1,2, {'plot_height':170}],\n",
    "    [3,4,5, {'plot_height':170}],\n",
    "    [6,7,8, {'plot_height':170}],\n",
    "    [9,10,11, {'plot_height':170}],\n",
    "    {'plot_height':400,'sizing_mode':'scale_width'}\n",
    "]\n",
    "\n",
    "output_file(\"fastSimulDisplayResolution.html\")\n",
    "figC=bokehDrawSA.fromArray(dfDraw, \"fMaxLayer>4\", figureArray, widgetParams,layout=figureLayoutDesc,tooltips=tooltips,sizing_mode='scale_width',widgetLayout=widgetLayoutDesc,nPointRender=20000,rescaleColorMapper=True,arrayCompression=arrayCompressionRelative8)"
   ]
  },
  {
   "cell_type": "code",
   "execution_count": null,
   "metadata": {},
   "outputs": [],
   "source": [
    "dfDraw.head(5)"
   ]
  },
  {
   "cell_type": "code",
   "execution_count": null,
   "metadata": {},
   "outputs": [],
   "source": [
    "tree.Draw(\"gyMC\",defaultCutTrack)\n",
    "c1.Draw()"
   ]
  },
  {
   "cell_type": "code",
   "execution_count": null,
   "metadata": {},
   "outputs": [],
   "source": [
    "defaultCutTrack=\"ptMC>0.01&&abs(tglMC)<1&&abs(gzMC)<300&&abs(gyMC)<300\"\n",
    "#dfResDraw=tree2Panda(tree,[\"gyMC\",\"qPt\",\"tglMC\",\"sigmaY0\",\"sigmaZ0\",\"sigmaqPt0\",\"pidCode\",\"isSecondary\",\"fMaxLayer\",\"snpMax\",\"dEdxExp\"],\n",
    "#                 \"\",columnMask=[[\"_fElements\",\"\"]],nEntries=5000)\n",
    "dfResDraw=tree2Panda(tree,[\"gyMC\",\"gxMC\",\"gyIn\",\"gxIn\",\"gzIn\",\"gzMC\",\"ptMC\",\"ptMCP\",\"tglMC\",\"pidCode\",\"qPt\",\"trackID\",\"pIndex\",\"isSecondary\",\"sigmaY0\",\"sigmaZ0\",\"sigmaqPt0\",\"dEdxExp\",\"fMaxLayer\"],\n",
    "                 defaultCutTrack,columnMask=[[\"_fElements\",\"\"]],nEntries=2000)\n",
    "dfResDraw.head(5)"
   ]
  },
  {
   "cell_type": "code",
   "execution_count": null,
   "metadata": {},
   "outputs": [],
   "source": [
    "\n",
    "\n",
    "output_file(\"fastSimulDisplayReolutionBugTracing.html\")\n",
    "dfDraw=dfResDraw.head(40000)\n",
    "\n",
    "histoArray = [\n",
    "    {\"name\": \"histogdX\", \"variables\": [\"gxMC-gxIn\"], \"nbins\": 50},\n",
    "    {\"name\": \"histogdY\", \"variables\": [\"gyMC-gyIn\"], \"nbins\": 50},\n",
    "    {\"name\": \"histogdZ\", \"variables\": [\"gzMC-gzIn\"], \"nbins\": 50}\n",
    "]\n",
    "\n",
    "figureArray = [\n",
    "    [['qPt'], ['sigmaY0'], {\"colorZvar\":\"pidCode\"}],\n",
    "    [['qPt'], ['sigmaZ0'], {\"colorZvar\":\"pidCode\"}],\n",
    "    [['qPt'], ['sigmaqPt0'], {\"colorZvar\":\"pidCode\"}],\n",
    "    #\n",
    "    [['qPt'], ['sigmaY0/sqrt(1+qPt**2)'], {\"colorZvar\":\"pidCode\"}],\n",
    "    [['qPt'], ['sigmaZ0/sqrt(1+qPt**2)'], {\"colorZvar\":\"pidCode\"}],\n",
    "    [['qPt'], ['sigmaqPt0/sqrt(1+qPt**2)'], {\"colorZvar\":\"pidCode\"}],\n",
    "    #\n",
    "    [['qPt'], ['sigmaY0/sqrt(1+(dEdxExp*qPt)**2)'], {\"colorZvar\":\"pidCode\"}],\n",
    "    [['qPt'], ['sigmaZ0/sqrt(1+(dEdxExp*qPt)**2)'], {\"colorZvar\":\"pidCode\"}],\n",
    "    [['qPt'], ['sigmaqPt0/sqrt(1+(dEdxExp*qPt)**2)'], {\"colorZvar\":\"pidCode\"}],\n",
    "    #\n",
    "    [['gxMC'], ['gyMC'], {\"colorZvar\":\"qPt\"}],\n",
    "    [['sqrt(gxMC**2+gyMC**2)'], ['gzMC'], {\"colorZvar\":\"qPt\"}],\n",
    "    [['sqrt(gxMC**2+gyMC**2)'], ['gyMC-gyIn'], {\"colorZvar\":\"qPt\"}],\n",
    "    \n",
    "    #\n",
    "    ['table'],\n",
    "    {\"size\": 5}\n",
    "]\n",
    "\n",
    "widgetParams=[\n",
    "    ['range', ['qPt']],\n",
    "    ['range', ['tglMC']],\n",
    "    #\n",
    "    ['range', ['sigmaY0']],\n",
    "    ['range', ['sigmaZ0']],\n",
    "    ['range', ['sigmaqPt0']],\n",
    "    #\n",
    "    ['range', ['pidCode']],\n",
    "    ['select', [\"isSecondary\"]],\n",
    "    #\n",
    "    ['range', ['fMaxLayer']],\n",
    "#    ['range', ['snpMax']],\n",
    "     ['range', ['dEdxExp']],\n",
    "     ['range', ['gyIn']],\n",
    "    \n",
    "]\n",
    "tooltips = [(\"qPt\",\"@qPt\")]\n",
    "widgetLayoutDesc=[ [0,1],[2,3,4],[5,6],[7,8], {'sizing_mode':'scale_width'} ]\n",
    "figureLayoutDesc=[\n",
    "    [0,1,2, {'plot_height':200}],\n",
    "    [3,4,5, {'plot_height':200}],\n",
    "    [6,7,8, {'plot_height':200}],\n",
    "    [9,10,11, {'plot_height':200}],\n",
    "    {'plot_height':400,'sizing_mode':'scale_width'}\n",
    "]\n",
    "\n",
    "output_file(\"fastSimulDisplayResolutionDebug.html\")\n",
    "figC=bokehDrawSA.fromArray(dfDraw, \"pidCode>-1\", figureArray, widgetParams,layout=figureLayoutDesc,tooltips=tooltips,sizing_mode='scale_width',widgetLayout=widgetLayoutDesc,nPointRender=5000,rescaleColorMapper=True,arrayCompression=arrayCompressionRelative8)"
   ]
  },
  {
   "cell_type": "markdown",
   "metadata": {},
   "source": [
    "## Dashboard resolution qPt, pidCode\n",
    "* at low pt and high dEdx outliers\n",
    "* is it rotation poroblem ?\n",
    "  * max snp along track added"
   ]
  },
  {
   "cell_type": "markdown",
   "metadata": {},
   "source": [
    "## 2.) XYZ display pt \n",
    "<a id='XYZdisplayPt'></a>"
   ]
  },
  {
   "cell_type": "code",
   "execution_count": null,
   "metadata": {},
   "outputs": [],
   "source": [
    "defaultCutTrack=\"ptMC>0.01&&abs(tglMC)<1&&abs(gzMC)<300&&abs(gyMC)<300\"\n",
    "dfTrackDraw=tree2Panda(tree,[\"gyMC\",\"gxMC\",\"rMC\",\"gyIn\",\"gxIn\",\"gzIn\",\"gzMC\",\"ptMC\",\"ptMCP\",\"tglMC\",\"pidCode\",\"qPt\",\"trackID\",\"pIndex\",\"isSecondary\"],\n",
    "                 defaultCutTrack,columnMask=[[\"_fElements\",\"\"]],nEntries=2000)"
   ]
  },
  {
   "cell_type": "code",
   "execution_count": null,
   "metadata": {},
   "outputs": [],
   "source": [
    "dfTrackDraw.head(5)"
   ]
  },
  {
   "cell_type": "code",
   "execution_count": null,
   "metadata": {},
   "outputs": [],
   "source": [
    "tree.SetAlias(\"trackID\",\"Entry$\")\n",
    "tree.SetAlias(\"gzMC\",\"part.fParamMC[].fP[1]\");\n",
    "defaultCutTrack=\"ptMC>0.01&&abs(tglMC)<1&&abs(gzMC)<300&&abs(gyMC)<300\"\n",
    "dfTrackDraw=tree2Panda(tree,[\"gyMC\",\"gxMC\",\"rMC\",\"gyIn\",\"gxIn\",\"gzIn\",\"gzMC\",\"ptMC\",\"ptMCP\",\"tglMC\",\"pidCode\",\"qPt\",\"trackID\",\"pIndex\",\"isSecondary\"],\n",
    "                 defaultCutTrack,columnMask=[[\"_fElements\",\"\"]],nEntries=5000)\n",
    "output_file(\"fastSimulDisplay.html\")\n",
    "dfDraw=dfTrackDraw.head(400000)\n",
    "figureArray = [\n",
    "    [['gxMC'], ['gyMC'], {\"colorZvar\":\"qPt\"}],\n",
    "    [['rMC'], ['gzMC'], {\"colorZvar\":\"qPt\"}],\n",
    "    [['gxMC'], ['gyMC'], {\"colorZvar\":\"qPt\", \"varZ\": \"gzMC\",\"dot-size\":1}],\n",
    "    ['table'],\n",
    "    {\"size\": 2}\n",
    "]\n",
    "\n",
    "widgetParams=[\n",
    "    ['range', ['gyMC']],\n",
    "    ['range', ['gxMC']],\n",
    "    ['range', ['qPt']],\n",
    "    ['range', ['pidCode']],\n",
    "    ['range', ['trackID']],\n",
    "    ['range', ['pIndex']],\n",
    "    ['select', [\"isSecondary\"]]\n",
    "]\n",
    "tooltips = [(\"gx\", \"@gxMC\"), (\"gy\", \"@gyMC\"), (\"pidCode\", \"@pidCode\"), (\"pt\", \"@ptMC\"), (\"pt point\", \"@ptMCP\"),(\"trackID\",\"@trackID\"), (\"pIndex\",\"@pIndex\")]\n",
    "widgetLayoutDesc=[ [0,1],[2,3],[4,5,6], {'sizing_mode':'scale_width'} ]\n",
    "figureLayoutDesc=[\n",
    "    [0,1, 2,{'plot_height':500}],\n",
    "    {'plot_height':400,'sizing_mode':'scale_width'}\n",
    "]\n",
    "#fig=bokehDrawSA.fromArray(dfDraw, \"pidCode>-1\", figureArray, widgetParams,layout=figureLayoutDesc,tooltips=tooltips,sizing_mode='scale_width',widgetLayout=widgetLayoutDesc,nPointRender=5000,rescaleColorMapper=True)\n",
    "output_file(\"fastSimulDisplayComp.html\")\n",
    "figC=bokehDrawSA.fromArray(dfDraw, \"pidCode>-1\", figureArray, widgetParams,layout=figureLayoutDesc,tooltips=tooltips,sizing_mode='scale_width',widgetLayout=widgetLayoutDesc,nPointRender=5000,rescaleColorMapper=True,arrayCompression=arrayCompressionRelative8)"
   ]
  },
  {
   "cell_type": "code",
   "execution_count": null,
   "metadata": {},
   "outputs": [],
   "source": [
    "output_file(\"fastSimulDisplayHisto.html\")\n",
    "tree.SetAlias(\"trackID\",\"Entry$\")\n",
    "tree.SetAlias(\"gzMC\",\"part.fParamMC[].fP[1]\");\n",
    "defaultCutTrack=\"ptMC>0.0&&abs(tglMC)<2&&abs(gzMC)<300&&abs(gyMC)<300\"\n",
    "dfTrackDraw=tree2Panda(tree,[\"gyMC\",\"gxMC\",\"gyIn\",\"gxIn\",\"gzIn\",\"gzMC\",\"ptMC\",\"tglMC\",\"pidCode\",\"qPt\",\"trackID\",\"isSecondary\",\"rMC\",\"snpMC\",\"pIndex\"],\n",
    "                 defaultCutTrack,columnMask=[[\"_fElements\",\"\"]],nEntries=200)\n",
    "output_file(\"fastSimulDisplayTrack.html\")\n",
    "dfDraw=dfTrackDraw.head(50000)\n",
    "\n",
    "histoArray = [\n",
    "    {\"name\": \"histogX\", \"variables\": [\"gxMC\"], \"nbins\": 50},\n",
    "    {\"name\": \"histogY\", \"variables\": [\"gyMC\"], \"nbins\": 50},\n",
    "    {\"name\": \"histogXY\", \"variables\": [\"gxMC\", \"gyMC\"], \"nbins\": [40, 40]},\n",
    "]\n",
    "\n",
    "figureArray = [\n",
    "    [['gxMC'], ['gyMC',\"gyIn\"], {\"colorZvar\":\"trackID\"}],\n",
    "    [['sqrt(gxMC**2+gyMC**2)'], ['gzMC'], {\"colorZvar\":\"trackID\"}],\n",
    "    [['gxIn'], ['gyIn'], {\"colorZvar\":\"trackID\", \"varZ\": \"gzMC\",\"dot-size\":1}],\n",
    "    [['gxMC'], ['histogX'], {}],\n",
    "    [['gyMC'], ['histogY'], {}],\n",
    "    [['gyMC'], ['histogXY'], {}],\n",
    "    ['table'],\n",
    "    {\"size\": 4}\n",
    "]\n",
    "\n",
    "widgetParams=[\n",
    "    ['range', ['gyMC']],\n",
    "    ['range', ['gxMC']],\n",
    "    ['range', ['rMC']],\n",
    "    ['range', ['snpMC']],\n",
    "    ['range', ['qPt']],\n",
    "    ['select', ['pidCode']],\n",
    "    ['range', ['trackID']],\n",
    "    ['range', ['pIndex']],\n",
    "    ['select', ['isSecondary']]\n",
    "]\n",
    "tooltips = [(\"gx\", \"@gxMC\"), (\"gy\", \"@gyMC\"), (\"pidCode\", \"@pidCode\"), (\"pt\", \"@ptMC\"),(\"trackID\",\"@trackID\"),(\"pIndex\",\"@pIndex\")]\n",
    "widgetLayoutDesc=[ [0,1],[2,3],[4,5],[6,7], {'sizing_mode':'scale_width'} ]\n",
    "figureLayoutDesc=[\n",
    "    [0,1,2, {'plot_height':300}],\n",
    "    [3,4,5, {'plot_height':300}],\n",
    "    {'plot_height':400,'sizing_mode':'scale_width'}\n",
    "]\n",
    "fig=bokehDrawSA.fromArray(dfDraw, \"pidCode>-1\", figureArray, widgetParams,layout=figureLayoutDesc,tooltips=tooltips,sizing_mode='scale_width',widgetLayout=widgetLayoutDesc,nPointRender=5000,rescaleColorMapper=True,histogramArray=histoArray)\n",
    "output_file(\"fastSimulDisplayHistoComp.html\")\n",
    "fig=bokehDrawSA.fromArray(dfDraw, \"pidCode>-1\", figureArray, widgetParams,layout=figureLayoutDesc,tooltips=tooltips,sizing_mode='scale_width',widgetLayout=widgetLayoutDesc,nPointRender=5000,rescaleColorMapper=True,histogramArray=histoArray,arrayCompression=arrayCompressionRelative8)"
   ]
  },
  {
   "cell_type": "code",
   "execution_count": null,
   "metadata": {},
   "outputs": [],
   "source": [
    "from pprint import *\n",
    "tree.SetAlias(\"trackID\",\"Entry$\")\n",
    "tree.SetAlias(\"gzMC\",\"part.fParamMC[].fP[1]\");\n",
    "defaultCutTrack=\"ptMC>0.0&&abs(tglMC)<2&&abs(gzMC)<300&&abs(gyMC)<300\"\n",
    "dfTrackDraw=tree2Panda(tree,[\"gyMC\",\"gxMC\",\"gyIn\",\"gxIn\",\"gzIn\",\"gzMC\",\"ptMC\",\"tglMC\",\"pidCode\",\"qPt\",\"trackID\",\"isSecondary\",\"rMC\",\"snpMC\",\"pIndex\"],\n",
    "                 defaultCutTrack,columnMask=[[\"_fElements\",\"\"]],nEntries=200)\n",
    "pprint(dfTrackDraw.columns)\n",
    "dfTrackDraw[\"dxIn\"]=dfTrackDraw.eval(\"gxMC-gxIn\")\n",
    "dfTrackDraw[\"dyIn\"]=dfTrackDraw.eval(\"gyMC-gyIn\")\n",
    "dfTrackDraw[\"dzIn\"]=dfTrackDraw.eval(\"gzMC-gzIn\")"
   ]
  },
  {
   "cell_type": "code",
   "execution_count": null,
   "metadata": {},
   "outputs": [],
   "source": [
    "output_file(\"fastSimulDisplayHisto.html\")\n",
    "dfDraw=dfTrackDraw.head(50000)\n",
    "\n",
    "histoArray = [\n",
    "    {\"name\": \"histogX\", \"variables\": [\"gxMC\"], \"nbins\": 50},\n",
    "    {\"name\": \"histogY\", \"variables\": [\"gyMC\"], \"nbins\": 50},\n",
    "    {\"name\": \"histogZ\", \"variables\": [\"gzMC\"], \"nbins\": 50},\n",
    "    #\n",
    "    {\"name\": \"histodX\", \"variables\": [\"dxIn\"], \"nbins\": 50},\n",
    "    {\"name\": \"histodY\", \"variables\": [\"dyIn\"], \"nbins\": 50},\n",
    "    {\"name\": \"histodZ\", \"variables\": [\"dzIn\"], \"nbins\": 50},\n",
    "]\n",
    "\n",
    "figureArray = [\n",
    "    [['gxMC'], ['gyMC',\"gyIn\"], {\"colorZvar\":\"trackID\"}],\n",
    "    [['sqrt(gxMC**2+gyMC**2)'], ['gzMC'], {\"colorZvar\":\"trackID\"}],\n",
    "    [['gxIn'], ['gyIn'], {\"colorZvar\":\"trackID\", \"varZ\": \"gzMC\",\"dot-size\":1}],\n",
    "    #\n",
    "    [['gxMC'], ['histogX'], {}],\n",
    "    [['gyMC'], ['histogY'], {}],\n",
    "    [['gzMC'], ['histogZ'], {}],\n",
    "    #\n",
    "    [['gxMC'], ['histodX'], {}],\n",
    "    [['gyMC'], ['histodY'], {}],\n",
    "    [['gzMC'], ['histodZ'], {}],\n",
    "    ['table'],\n",
    "    {\"size\": 4}\n",
    "]\n",
    "\n",
    "widgetParams=[\n",
    "    ['range', ['gyMC']],\n",
    "    ['range', ['gxMC']],\n",
    "    ['range', ['rMC']],\n",
    "    ['range', ['snpMC']],\n",
    "    ['range', ['qPt']],\n",
    "    ['select', ['pidCode']],\n",
    "    ['range', ['trackID']],\n",
    "    ['range', ['pIndex']],\n",
    "    ['select', ['isSecondary']],\n",
    "    ['range', ['dxIn']],\n",
    "    ['range', ['dyIn']],\n",
    "    ['range', ['dzIn']],\n",
    "]\n",
    "tooltips = [(\"gx\", \"@gxMC\"), (\"gy\", \"@gyMC\"), (\"pidCode\", \"@pidCode\"), (\"pt\", \"@ptMC\"),(\"trackID\",\"@trackID\"),(\"pIndex\",\"@pIndex\")]\n",
    "widgetLayoutDesc=[ [0,1,2,3],[4,5, 6,7,8], [9,10,11], {'sizing_mode':'scale_width'} ]\n",
    "figureLayoutDesc=[\n",
    "    [0,1,2, {'plot_height':200}],\n",
    "    [3,4,5, {'plot_height':200}],\n",
    "    [6,7,8, {'plot_height':200}],\n",
    "    {'plot_height':200,'sizing_mode':'scale_width'}\n",
    "]\n",
    "fig=bokehDrawSA.fromArray(dfDraw, \"pidCode>-1\", figureArray, widgetParams,layout=figureLayoutDesc,tooltips=tooltips,sizing_mode='scale_width',widgetLayout=widgetLayoutDesc,nPointRender=5000,rescaleColorMapper=True,histogramArray=histoArray)\n",
    "output_file(\"fastSimulDisplayHistoComp.html\")\n",
    "fig=bokehDrawSA.fromArray(dfDraw, \"pidCode>-1\", figureArray, widgetParams,layout=figureLayoutDesc,tooltips=tooltips,sizing_mode='scale_width',widgetLayout=widgetLayoutDesc,nPointRender=5000,rescaleColorMapper=True,histogramArray=histoArray,arrayCompression=arrayCompressionRelative8)"
   ]
  },
  {
   "cell_type": "markdown",
   "metadata": {},
   "source": [
    "# Fast prototypeng  part \n",
    "\n",
    "* check treee content to define interactive plots"
   ]
  },
  {
   "cell_type": "code",
   "execution_count": null,
   "metadata": {},
   "outputs": [],
   "source": [
    "tree.GetListOfAliases().Print(\"\",\"*g*In*\")"
   ]
  },
  {
   "cell_type": "code",
   "execution_count": null,
   "metadata": {},
   "outputs": [],
   "source": [
    "c = ROOT.TCanvas(\"xxx\",\"xxx\")\n",
    "tree.Draw(\"gyMC:gxMC:Iteration$\",\"Iteration$<100\",\"colz\",1,31)\n",
    "c.Draw(\"\")\n",
    "#tree.Scan(\"gyMC:gxMC:Iteration$\",\"Iteration$<100\",\"\",1,31)"
   ]
  },
  {
   "cell_type": "code",
   "execution_count": null,
   "metadata": {},
   "outputs": [],
   "source": [
    "c = ROOT.TCanvas(\"xxx\",\"xxx\")\n",
    "tree.Draw(\"sigmaY0:qPt:pidCode\",\"fMaxLayer==159&&abs(part.fParamMC[fMaxLayer].fP[2])<0.90&&abs(sigmaY0)<1\",\"colz\")\n",
    "c.Draw(\"\")"
   ]
  },
  {
   "cell_type": "code",
   "execution_count": null,
   "metadata": {},
   "outputs": [],
   "source": [
    "# Check status\n",
    "tree.Draw(\"gyMC:gxMC:Iteration$\",\"Iteration$<100\",\"colz\",1,31)\n",
    "c.Draw(\"\")"
   ]
  },
  {
   "cell_type": "code",
   "execution_count": null,
   "metadata": {},
   "outputs": [],
   "source": []
  }
 ],
 "metadata": {
  "kernelspec": {
   "display_name": "Python 3",
   "language": "python",
   "name": "python3"
  },
  "language_info": {
   "codemirror_mode": {
    "name": "ipython",
    "version": 3
   },
   "file_extension": ".py",
   "mimetype": "text/x-python",
   "name": "python",
   "nbconvert_exporter": "python",
   "pygments_lexer": "ipython3",
   "version": "3.6.9"
  }
 },
 "nbformat": 4,
 "nbformat_minor": 2
}
