{
 "cells": [
  {
   "cell_type": "markdown",
   "metadata": {},
   "source": [
    "# Fast simulation event display and perfromance parameterization\n",
    "Expert  configurable event display for fast simulzation studies  \n",
    "\n",
    "\n",
    "## Contents \n",
    "[Import modules](#import) <br>\n",
    "[Load trees, set aliases](#load) <br>\n",
    "[XYZ display pt](#XYZdisplayPt) <br>\n",
    "[XYZ display pt](#XYZdisplaytrack) <br>"
   ]
  },
  {
   "cell_type": "code",
   "execution_count": null,
   "metadata": {},
   "outputs": [],
   "source": [
    "from bokeh.io import output_notebook\n",
    "from RootInteractive.Tools.aliTreePlayer import *\n",
    "from RootInteractive.InteractiveDrawing.bokeh.bokehDrawSA import *\n",
    "from RootInteractive.Tools.aliTreePlayer import *\n",
    "from bokeh.io import curdoc\n",
    "import numpy as np\n",
    "import os\n",
    "import sys\n",
    "from ROOT import TFile, gSystem\n",
    "from RootInteractive.InteractiveDrawing.bokeh.bokehDrawSA import *\n",
    "from RootInteractive.MLpipeline.NDFunctionInterface import  DataContainer, Fitter, RandomForest\n",
    "import plotly.express as px\n",
    "import time\n",
    "import pickle\n",
    "from IPython.display import Image, clear_output\n",
    "from RootInteractive.InteractiveDrawing.bokeh.CDSCompress import *\n",
    "#\n",
    "from fastSimulation import *"
   ]
  },
  {
   "cell_type": "markdown",
   "metadata": {},
   "source": [
    "## 1.) Load trees and define derived variables:\n",
    "<a id='load'></a>"
   ]
  },
  {
   "cell_type": "code",
   "execution_count": null,
   "metadata": {},
   "outputs": [],
   "source": [
    "#tree, treeList, fileList = LoadTrees(\"echo /home2/miranov/software/aliceLustre/alice-tpc-notes2/JIRA/PWGPP-583/fastParticle.root\",\".*\",\"urn\",\".*root\",0)\n",
    "tree, treeList, fileList = LoadTrees(\"echo fastParticle.root\",\".*\",\"urn\",\".*root\",0)\n",
    "#tree  = ROOT.AliXRDPROOFtoolkit.MakeChain(\"fastParticle.list\",\"fastPart\",\"xxx\",10000);\n",
    "tree.SetMarkerStyle(25)\n",
    "tree.SetMarkerSize(0.5)\n",
    "ROOT.setAliases(tree)\n",
    "tree.SetAlias(\"qPt\",\"part.fParamMC[0].fP[4]\")\n",
    "tree.SetAlias(\"ptMC\",\"part.fParamMC[0].fData.Pt()\")\n",
    "tree.SetAlias(\"ptIn\",\"part.fParamIn[1].fData.Pt()\")\n",
    "tree.SetAlias(\"ptMCP\",\"part.fParamMC[].fData.Pt()\")\n",
    "tree.SetAlias(\"tglMC\",\"part.fParamMC[0].fP[3]\")\n",
    "tree.SetAlias(\"tglIn\",\"part.fParamIn[1].fP[3]\")\n",
    "tree.SetAlias(\"sigmaY0\",\"sqrt(part.fParamIn[1].fC[0])\")\n",
    "tree.SetAlias(\"sigmaZ0\",\"sqrt(part.fParamIn[1].fC[2])\")\n",
    "tree.SetAlias(\"sigmaqPt\",\"sqrt(part.fParamIn[1].fC[14])\")\n",
    "tree.SetAlias(\"gzMC\",\"(part.fParamMC[].fP[1])\")\n",
    "tree.SetAlias(\"gzIn\",\"(part.fParamIn[].fP[1])\")\n",
    "tree.SetAlias(\"rMC\",\"sqrt(gxMC**2+gyMC**2)\")\n",
    "tree.SetAlias(\"snpMC\",\"(part.fParamMC[].fP[2])\")\n",
    "tree.SetAlias(\"pIndex\",\"Iteration$\")\n",
    "tree.SetAlias(\"trackID\",\"i\")"
   ]
  },
  {
   "cell_type": "code",
   "execution_count": null,
   "metadata": {},
   "outputs": [],
   "source": [
    "c1=ROOT.TCanvas(\"c1\",\"c1\",700,400)\n",
    "entries = tree.Draw(\"10*sigmaY0:1/ptMC:pidCode\",\"ptMC>0.4&&abs(tglMC)<2&&!isSecondary&&sigmaY0<1\",\"colz\")\n",
    "#c1.SetLogy(1)\n",
    "c1.Draw(\"colz\")"
   ]
  },
  {
   "cell_type": "code",
   "execution_count": null,
   "metadata": {},
   "outputs": [],
   "source": [
    "tree.GetAlias(\"gzMC\")\n",
    "anyTree=treeToAnyTree(tree)\n",
    "output_notebook()"
   ]
  },
  {
   "cell_type": "markdown",
   "metadata": {},
   "source": [
    "## 2.) XYZ display pt \n",
    "<a id='XYZdisplayPt'></a>"
   ]
  },
  {
   "cell_type": "code",
   "execution_count": null,
   "metadata": {},
   "outputs": [],
   "source": [
    "defaultCutTrack=\"ptMC>0.01&&abs(tglMC)<1&&abs(gzMC)<300&&abs(gyMC)<300\"\n",
    "dfTrackDraw=tree2Panda(tree,[\"gyMC\",\"gxMC\",\"gyIn\",\"gxIn\",\"gzIn\",\"gzMC\",\"ptMC\",\"ptMCP\",\"tglMC\",\"pidCode\",\"qPt\",\"trackID\",\"pIndex\",\"isSecondary\"],\n",
    "                 defaultCutTrack,columnMask=[[\"_fElements\",\"\"]],nEntries=2000)"
   ]
  },
  {
   "cell_type": "code",
   "execution_count": null,
   "metadata": {},
   "outputs": [],
   "source": [
    "tree.SetAlias(\"trackID\",\"Entry$\")\n",
    "tree.SetAlias(\"gzMC\",\"part.fParamMC[].fP[1]\");\n",
    "defaultCutTrack=\"ptMC>0.01&&abs(tglMC)<1&&abs(gzMC)<300&&abs(gyMC)<300\"\n",
    "dfTrackDraw=tree2Panda(tree,[\"gyMC\",\"gxMC\",\"gyIn\",\"gxIn\",\"gzIn\",\"gzMC\",\"ptMC\",\"ptMCP\",\"tglMC\",\"pidCode\",\"qPt\",\"trackID\",\"pIndex\",\"isSecondary\"],\n",
    "                 defaultCutTrack,columnMask=[[\"_fElements\",\"\"]],nEntries=5000)\n",
    "output_file(\"fastSimulDisplay.html\")\n",
    "dfDraw=dfTrackDraw.head(400000)\n",
    "figureArray = [\n",
    "    [['gxMC'], ['gyMC'], {\"colorZvar\":\"qPt\"}],\n",
    "    [['sqrt(gxMC**2+gyMC**2)'], ['gzMC'], {\"colorZvar\":\"qPt\"}],\n",
    "    [['gxIn'], ['gyIn'], {\"colorZvar\":\"qPt\", \"varZ\": \"gzMC\",\"dot-size\":1}],\n",
    "    ['table'],\n",
    "    {\"size\": 2}\n",
    "]\n",
    "\n",
    "widgetParams=[\n",
    "    ['range', ['gyMC']],\n",
    "    ['range', ['gxMC']],\n",
    "    ['range', ['qPt']],\n",
    "    ['range', ['pidCode']],\n",
    "    ['range', ['trackID']],\n",
    "    ['range', ['pIndex']],\n",
    "    ['select', [\"isSecondary\"]]\n",
    "]\n",
    "tooltips = [(\"gx\", \"@gxMC\"), (\"gy\", \"@gyMC\"), (\"pidCode\", \"@pidCode\"), (\"pt\", \"@ptMC\"), (\"pt point\", \"@ptMCP\"),(\"trackID\",\"@trackID\"), (\"pIndex\",\"@pIndex\")]\n",
    "widgetLayoutDesc=[ [0,1],[2,3],[4,5,6], {'sizing_mode':'scale_width'} ]\n",
    "figureLayoutDesc=[\n",
    "    [0,1, 2,{'plot_height':500}],\n",
    "    {'plot_height':400,'sizing_mode':'scale_width'}\n",
    "]\n",
    "#fig=bokehDrawSA.fromArray(dfDraw, \"pidCode>-1\", figureArray, widgetParams,layout=figureLayoutDesc,tooltips=tooltips,sizing_mode='scale_width',widgetLayout=widgetLayoutDesc,nPointRender=5000,rescaleColorMapper=True)\n",
    "output_file(\"fastSimulDisplayComp.html\")\n",
    "figC=bokehDrawSA.fromArray(dfDraw, \"pidCode>-1\", figureArray, widgetParams,layout=figureLayoutDesc,tooltips=tooltips,sizing_mode='scale_width',widgetLayout=widgetLayoutDesc,nPointRender=5000,rescaleColorMapper=True,arrayCompression=arrayCompressionRelative8)"
   ]
  },
  {
   "cell_type": "code",
   "execution_count": null,
   "metadata": {},
   "outputs": [],
   "source": [
    "output_file(\"fastSimulDisplayHisto.html\")\n",
    "tree.SetAlias(\"trackID\",\"Entry$\")\n",
    "tree.SetAlias(\"gzMC\",\"part.fParamMC[].fP[1]\");\n",
    "defaultCutTrack=\"ptMC>0.0&&abs(tglMC)<2&&abs(gzMC)<300&&abs(gyMC)<300\"\n",
    "dfTrackDraw=tree2Panda(tree,[\"gyMC\",\"gxMC\",\"gyIn\",\"gxIn\",\"gzIn\",\"gzMC\",\"ptMC\",\"tglMC\",\"pidCode\",\"qPt\",\"trackID\",\"isSecondary\",\"rMC\",\"snpMC\",\"pIndex\"],\n",
    "                 defaultCutTrack,columnMask=[[\"_fElements\",\"\"]],nEntries=200)\n",
    "output_file(\"fastSimulDisplayTrack.html\")\n",
    "dfDraw=dfTrackDraw.head(50000)\n",
    "\n",
    "histoArray = [\n",
    "    {\"name\": \"histogX\", \"variables\": [\"gxMC\"], \"nbins\": 50},\n",
    "    {\"name\": \"histogY\", \"variables\": [\"gyMC\"], \"nbins\": 50},\n",
    "    {\"name\": \"histogXY\", \"variables\": [\"gxMC\", \"gyMC\"], \"nbins\": [40, 40]},\n",
    "]\n",
    "\n",
    "figureArray = [\n",
    "    [['gxMC'], ['gyMC',\"gyIn\"], {\"colorZvar\":\"trackID\"}],\n",
    "    [['sqrt(gxMC**2+gyMC**2)'], ['gzMC'], {\"colorZvar\":\"trackID\"}],\n",
    "    [['gxIn'], ['gyIn'], {\"colorZvar\":\"trackID\", \"varZ\": \"gzMC\",\"dot-size\":1}],\n",
    "    [['gxMC'], ['histogX'], {}],\n",
    "    [['gyMC'], ['histogY'], {}],\n",
    "    [['gyMC'], ['histogXY'], {}],\n",
    "    ['table'],\n",
    "    {\"size\": 4}\n",
    "]\n",
    "\n",
    "widgetParams=[\n",
    "    ['range', ['gyMC']],\n",
    "    ['range', ['gxMC']],\n",
    "    ['range', ['rMC']],\n",
    "    ['range', ['snpMC']],\n",
    "    ['range', ['qPt']],\n",
    "    ['select', ['pidCode']],\n",
    "    ['range', ['trackID']],\n",
    "    ['range', ['pIndex']],\n",
    "    ['select', ['isSecondary']]\n",
    "]\n",
    "tooltips = [(\"gx\", \"@gxMC\"), (\"gy\", \"@gyMC\"), (\"pidCode\", \"@pidCode\"), (\"pt\", \"@ptMC\"),(\"trackID\",\"@trackID\"),(\"pIndex\",\"@pIndex\")]\n",
    "widgetLayoutDesc=[ [0,1],[2,3],[4,5],[6,7], {'sizing_mode':'scale_width'} ]\n",
    "figureLayoutDesc=[\n",
    "    [0,1,2, {'plot_height':300}],\n",
    "    [3,4,5, {'plot_height':300}],\n",
    "    {'plot_height':400,'sizing_mode':'scale_width'}\n",
    "]\n",
    "fig=bokehDrawSA.fromArray(dfDraw, \"pidCode>-1\", figureArray, widgetParams,layout=figureLayoutDesc,tooltips=tooltips,sizing_mode='scale_width',widgetLayout=widgetLayoutDesc,nPointRender=5000,rescaleColorMapper=True,histogramArray=histoArray)\n",
    "output_file(\"fastSimulDisplayHistoComp.html\")\n",
    "fig=bokehDrawSA.fromArray(dfDraw, \"pidCode>-1\", figureArray, widgetParams,layout=figureLayoutDesc,tooltips=tooltips,sizing_mode='scale_width',widgetLayout=widgetLayoutDesc,nPointRender=5000,rescaleColorMapper=True,histogramArray=histoArray,arrayCompression=arrayCompressionRelative8)"
   ]
  },
  {
   "cell_type": "code",
   "execution_count": null,
   "metadata": {},
   "outputs": [],
   "source": [
    "from pprint import *\n",
    "tree.SetAlias(\"trackID\",\"Entry$\")\n",
    "tree.SetAlias(\"gzMC\",\"part.fParamMC[].fP[1]\");\n",
    "defaultCutTrack=\"ptMC>0.0&&abs(tglMC)<2&&abs(gzMC)<300&&abs(gyMC)<300\"\n",
    "dfTrackDraw=tree2Panda(tree,[\"gyMC\",\"gxMC\",\"gyIn\",\"gxIn\",\"gzIn\",\"gzMC\",\"ptMC\",\"tglMC\",\"pidCode\",\"qPt\",\"trackID\",\"isSecondary\",\"rMC\",\"snpMC\",\"pIndex\"],\n",
    "                 defaultCutTrack,columnMask=[[\"_fElements\",\"\"]],nEntries=200)\n",
    "pprint(dfTrackDraw.columns)\n",
    "dfTrackDraw[\"dxIn\"]=dfTrackDraw.eval(\"gxMC-gxIn\")\n",
    "dfTrackDraw[\"dyIn\"]=dfTrackDraw.eval(\"gyMC-gyIn\")\n",
    "dfTrackDraw[\"dzIn\"]=dfTrackDraw.eval(\"gzMC-gzIn\")"
   ]
  },
  {
   "cell_type": "code",
   "execution_count": null,
   "metadata": {},
   "outputs": [],
   "source": [
    "output_file(\"fastSimulDisplayHisto.html\")\n",
    "dfDraw=dfTrackDraw.head(50000)\n",
    "\n",
    "histoArray = [\n",
    "    {\"name\": \"histogX\", \"variables\": [\"gxMC\"], \"nbins\": 50},\n",
    "    {\"name\": \"histogY\", \"variables\": [\"gyMC\"], \"nbins\": 50},\n",
    "    {\"name\": \"histogZ\", \"variables\": [\"gzMC\"], \"nbins\": 50},\n",
    "    #\n",
    "    {\"name\": \"histodX\", \"variables\": [\"dxIn\"], \"nbins\": 50},\n",
    "    {\"name\": \"histodY\", \"variables\": [\"dyIn\"], \"nbins\": 50},\n",
    "    {\"name\": \"histodZ\", \"variables\": [\"dzIn\"], \"nbins\": 50},\n",
    "]\n",
    "\n",
    "figureArray = [\n",
    "    [['gxMC'], ['gyMC',\"gyIn\"], {\"colorZvar\":\"trackID\"}],\n",
    "    [['sqrt(gxMC**2+gyMC**2)'], ['gzMC'], {\"colorZvar\":\"trackID\"}],\n",
    "    [['gxIn'], ['gyIn'], {\"colorZvar\":\"trackID\", \"varZ\": \"gzMC\",\"dot-size\":1}],\n",
    "    #\n",
    "    [['gxMC'], ['histogX'], {}],\n",
    "    [['gyMC'], ['histogY'], {}],\n",
    "    [['gzMC'], ['histogZ'], {}],\n",
    "    #\n",
    "    [['gxMC'], ['histodX'], {}],\n",
    "    [['gyMC'], ['histodY'], {}],\n",
    "    [['gzMC'], ['histodZ'], {}],\n",
    "    ['table'],\n",
    "    {\"size\": 4}\n",
    "]\n",
    "\n",
    "widgetParams=[\n",
    "    ['range', ['gyMC']],\n",
    "    ['range', ['gxMC']],\n",
    "    ['range', ['rMC']],\n",
    "    ['range', ['snpMC']],\n",
    "    ['range', ['qPt']],\n",
    "    ['select', ['pidCode']],\n",
    "    ['range', ['trackID']],\n",
    "    ['range', ['pIndex']],\n",
    "    ['select', ['isSecondary']],\n",
    "    ['range', ['dxIn']],\n",
    "    ['range', ['dyIn']],\n",
    "    ['range', ['dzIn']],\n",
    "]\n",
    "tooltips = [(\"gx\", \"@gxMC\"), (\"gy\", \"@gyMC\"), (\"pidCode\", \"@pidCode\"), (\"pt\", \"@ptMC\"),(\"trackID\",\"@trackID\"),(\"pIndex\",\"@pIndex\")]\n",
    "widgetLayoutDesc=[ [0,1,2,3],[4,5, 6,7,8], [9,10,11], {'sizing_mode':'scale_width'} ]\n",
    "figureLayoutDesc=[\n",
    "    [0,1,2, {'plot_height':200}],\n",
    "    [3,4,5, {'plot_height':200}],\n",
    "    [6,7,8, {'plot_height':200}],\n",
    "    {'plot_height':200,'sizing_mode':'scale_width'}\n",
    "]\n",
    "fig=bokehDrawSA.fromArray(dfDraw, \"pidCode>-1\", figureArray, widgetParams,layout=figureLayoutDesc,tooltips=tooltips,sizing_mode='scale_width',widgetLayout=widgetLayoutDesc,nPointRender=5000,rescaleColorMapper=True,histogramArray=histoArray)\n",
    "output_file(\"fastSimulDisplayHistoComp.html\")\n",
    "fig=bokehDrawSA.fromArray(dfDraw, \"pidCode>-1\", figureArray, widgetParams,layout=figureLayoutDesc,tooltips=tooltips,sizing_mode='scale_width',widgetLayout=widgetLayoutDesc,nPointRender=5000,rescaleColorMapper=True,histogramArray=histoArray,arrayCompression=arrayCompressionRelative8)"
   ]
  },
  {
   "cell_type": "code",
   "execution_count": null,
   "metadata": {},
   "outputs": [],
   "source": [
    "c = ROOT.TCanvas(\"xxx\",\"xxx\")\n",
    "tree.Draw(\"gyMC:gxMC:Iteration$\",\"Iteration$<100\",\"colz\",1,31)\n",
    "c.Draw(\"\")\n",
    "#tree.Scan(\"gyMC:gxMC:Iteration$\",\"Iteration$<100\",\"\",1,31)"
   ]
  },
  {
   "cell_type": "code",
   "execution_count": null,
   "metadata": {},
   "outputs": [],
   "source": [
    "tree.GetListOfAliases().Print(\"\",\"*g*In*\")\n"
   ]
  },
  {
   "cell_type": "code",
   "execution_count": null,
   "metadata": {},
   "outputs": [],
   "source": []
  }
 ],
 "metadata": {
  "kernelspec": {
   "display_name": "Python 3",
   "language": "python",
   "name": "python3"
  },
  "language_info": {
   "codemirror_mode": {
    "name": "ipython",
    "version": 3
   },
   "file_extension": ".py",
   "mimetype": "text/x-python",
   "name": "python",
   "nbconvert_exporter": "python",
   "pygments_lexer": "ipython3",
   "version": "3.6.9"
  }
 },
 "nbformat": 4,
 "nbformat_minor": 2
}
